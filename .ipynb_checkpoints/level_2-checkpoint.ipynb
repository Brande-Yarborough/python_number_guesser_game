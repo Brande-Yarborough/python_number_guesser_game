{
 "cells": [
  {
   "cell_type": "code",
   "execution_count": null,
   "id": "9087c90c",
   "metadata": {},
   "outputs": [],
   "source": [
    "import random\n",
    "\n",
    "guess = 0\n",
    "player = int(input(\"Pick a number 1-10 \"))\n",
    "\n",
    "\n",
    "while guess < 3:\n",
    "    guess += 1\n",
    "    computer = random.randint(1, 10)\n",
    "\n",
    "    if computer == player:\n",
    "        print(\"The computer wins! \")\n",
    "        break\n",
    "    elif computer < player:\n",
    "        print(\"The computer guess is too low.\")\n",
    "    else:\n",
    "        print(\"The computer guess is too high.\")\n",
    "\n",
    "    if guess == 3:\n",
    "        print(\"The computer ran out of guesses. You win. :)\")\n",
    "        print(\"the number was\", player)\n"
   ]
  }
 ],
 "metadata": {
  "kernelspec": {
   "display_name": "Python 3 (ipykernel)",
   "language": "python",
   "name": "python3"
  },
  "language_info": {
   "codemirror_mode": {
    "name": "ipython",
    "version": 3
   },
   "file_extension": ".py",
   "mimetype": "text/x-python",
   "name": "python",
   "nbconvert_exporter": "python",
   "pygments_lexer": "ipython3",
   "version": "3.9.6"
  }
 },
 "nbformat": 4,
 "nbformat_minor": 5
}

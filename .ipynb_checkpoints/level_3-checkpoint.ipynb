{
 "cells": [
  {
   "cell_type": "code",
   "execution_count": null,
   "id": "a6b3d981",
   "metadata": {},
   "outputs": [],
   "source": [
    "guess = 0\n",
    "player = int(input(\"Pick a number 1-10? \"))\n",
    "computer = 0\n",
    "low = 1\n",
    "high = 10\n",
    "\n",
    "while computer != player:\n",
    "    # could also say while True:\n",
    "    guess += 1\n",
    "    computer = (low + high) // 2\n",
    "\n",
    "    if computer > player:\n",
    "        print(\"Computer guessed\", computer, \"Too high.\"\n",
    "              \"This is guess number\", guess,)\n",
    "        high = computer - 1\n",
    "        continue\n",
    "    elif computer < player:\n",
    "        print(\"Computer guessed\", computer, \"Too low.\"\n",
    "              \"This is guess number\", guess,)\n",
    "        low = computer + 1\n",
    "        continue\n",
    "if computer == player:\n",
    "    print(\"Computer guessed\", computer, \"Computer wins! :)\",\n",
    "          \"This is guess number\", guess)\n"
   ]
  }
 ],
 "metadata": {
  "kernelspec": {
   "display_name": "Python 3 (ipykernel)",
   "language": "python",
   "name": "python3"
  },
  "language_info": {
   "codemirror_mode": {
    "name": "ipython",
    "version": 3
   },
   "file_extension": ".py",
   "mimetype": "text/x-python",
   "name": "python",
   "nbconvert_exporter": "python",
   "pygments_lexer": "ipython3",
   "version": "3.9.6"
  }
 },
 "nbformat": 4,
 "nbformat_minor": 5
}

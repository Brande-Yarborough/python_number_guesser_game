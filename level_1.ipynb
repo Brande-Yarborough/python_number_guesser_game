{
 "cells": [
  {
   "cell_type": "code",
   "execution_count": 1,
   "id": "b0cd3370",
   "metadata": {},
   "outputs": [
    {
     "name": "stdout",
     "output_type": "stream",
     "text": [
      "Pick a number 1-10? 3\n",
      "Computer guessed 5 Too high.This is guess number 1\n",
      "Computer guessed 2 Too low.This is guess number 2\n",
      "Computer guessed 3 Computer wins! :) This is guess number 3\n"
     ]
    }
   ],
   "source": [
    "guess = 0\n",
    "player = int(input(\"Pick a number 1-10? \"))\n",
    "computer = 0\n",
    "low = 1\n",
    "high = 10\n",
    "\n",
    "while computer != player:\n",
    "    # could also say while True:\n",
    "    guess += 1\n",
    "    computer = (low + high) // 2\n",
    "\n",
    "    if computer > player:\n",
    "        print(\"Computer guessed\", computer, \"Too high.\"\n",
    "              \"This is guess number\", guess,)\n",
    "        high = computer - 1\n",
    "        continue\n",
    "    elif computer < player:\n",
    "        print(\"Computer guessed\", computer, \"Too low.\"\n",
    "              \"This is guess number\", guess,)\n",
    "        low = computer + 1\n",
    "        continue\n",
    "if computer == player:\n",
    "    print(\"Computer guessed\", computer, \"Computer wins! :)\",\n",
    "          \"This is guess number\", guess)\n"
   ]
  },
  {
   "cell_type": "code",
   "execution_count": null,
   "id": "90ea7ec4",
   "metadata": {},
   "outputs": [],
   "source": []
  }
 ],
 "metadata": {
  "kernelspec": {
   "display_name": "Python 3",
   "language": "python",
   "name": "python3"
  },
  "language_info": {
   "codemirror_mode": {
    "name": "ipython",
    "version": 3
   },
   "file_extension": ".py",
   "mimetype": "text/x-python",
   "name": "python",
   "nbconvert_exporter": "python",
   "pygments_lexer": "ipython3",
   "version": "3.9.6"
  },
  "vscode": {
   "interpreter": {
    "hash": "31f2aee4e71d21fbe5cf8b01ff0e069b9275f58929596ceb00d14d90e3e16cd6"
   }
  }
 },
 "nbformat": 4,
 "nbformat_minor": 5
}
